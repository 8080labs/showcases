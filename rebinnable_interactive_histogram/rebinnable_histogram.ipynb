{
 "cells": [
  {
   "cell_type": "markdown",
   "metadata": {},
   "source": [
    "# How to interactively rebin your histograms on the fly"
   ]
  },
  {
   "cell_type": "code",
   "execution_count": 18,
   "metadata": {},
   "outputs": [],
   "source": [
    "import pandas as pd\n",
    "import plotly.graph_objs as go\n",
    "import ipywidgets as widgets"
   ]
  },
  {
   "cell_type": "code",
   "execution_count": 19,
   "metadata": {},
   "outputs": [],
   "source": [
    "df = pd.read_csv(\"../data/flights.csv\")"
   ]
  },
  {
   "cell_type": "markdown",
   "metadata": {},
   "source": [
    "## The bare minimum"
   ]
  },
  {
   "cell_type": "code",
   "execution_count": 27,
   "metadata": {},
   "outputs": [],
   "source": [
    "def rebinnable_interactive_histogram(series, initial_bin_width=10):\n",
    "    figure_widget = go.FigureWidget(\n",
    "        data=[go.Histogram(x=series, xbins={\"size\": initial_bin_width})]\n",
    "    )\n",
    "\n",
    "    bin_slider = widgets.FloatSlider(\n",
    "        value=initial_bin_width,\n",
    "        min=1,\n",
    "        max=30,\n",
    "        step=1,\n",
    "        description=\"Bin width:\",\n",
    "        readout_format=\".0f\"  # display as integer\n",
    "    )\n",
    "\n",
    "    histogram_object = figure_widget.data[0]\n",
    "\n",
    "    def set_bin_size(change):\n",
    "        histogram_object.xbins = {\"size\": change[\"new\"]}\n",
    "    bin_slider.observe(set_bin_size, names=\"value\")\n",
    "\n",
    "    output_widget = widgets.VBox([figure_widget, bin_slider])\n",
    "    return output_widget"
   ]
  },
  {
   "cell_type": "code",
   "execution_count": 28,
   "metadata": {},
   "outputs": [
    {
     "data": {
      "application/vnd.jupyter.widget-view+json": {
       "model_id": "db685cacdb834751942ca84b68de9e35",
       "version_major": 2,
       "version_minor": 0
      },
      "text/plain": [
       "VBox(children=(FigureWidget({\n",
       "    'data': [{'type': 'histogram',\n",
       "              'uid': '380a4d34-fde2-4c6a-876d…"
      ]
     },
     "metadata": {},
     "output_type": "display_data"
    }
   ],
   "source": [
    "rebinnable_interactive_histogram(df[\"air_time\"])"
   ]
  },
  {
   "cell_type": "markdown",
   "metadata": {},
   "source": [
    "## With a bit of styling to get you started"
   ]
  },
  {
   "cell_type": "code",
   "execution_count": 29,
   "metadata": {},
   "outputs": [],
   "source": [
    "def rebinnable_interactive_histogram(series, initial_bin_width=10):\n",
    "    trace = go.Histogram(x=series, xbins={\"size\": initial_bin_width})\n",
    "    figure_widget = go.FigureWidget(\n",
    "        data=[trace],\n",
    "        layout=go.Layout(\n",
    "            yaxis={\"title\": \"Count\"},\n",
    "            xaxis={\"title\": \"x\"},\n",
    "            bargap=0.05,\n",
    "        )\n",
    "    )\n",
    "\n",
    "    bin_slider = widgets.FloatSlider(\n",
    "        value=initial_bin_width,\n",
    "        min=1,\n",
    "        max=30,\n",
    "        step=1,\n",
    "        description=\"Bin width:\",\n",
    "        readout_format=\".0f\"  # display as integer\n",
    "    )\n",
    "\n",
    "    histogram_object = figure_widget.data[0]\n",
    "\n",
    "    def set_bin_size(change):\n",
    "        histogram_object.xbins = {\"size\": change[\"new\"]}\n",
    "    bin_slider.observe(set_bin_size, names=\"value\")\n",
    "\n",
    "    output_widget = widgets.VBox([figure_widget, bin_slider])\n",
    "    return output_widget"
   ]
  },
  {
   "cell_type": "code",
   "execution_count": 25,
   "metadata": {},
   "outputs": [
    {
     "data": {
      "application/vnd.jupyter.widget-view+json": {
       "model_id": "d11387667b724a308ad71db70e311915",
       "version_major": 2,
       "version_minor": 0
      },
      "text/plain": [
       "VBox(children=(FigureWidget({\n",
       "    'data': [{'type': 'histogram',\n",
       "              'uid': 'f1dcdc63-7d79-4e8e-8ab8…"
      ]
     },
     "metadata": {},
     "output_type": "display_data"
    }
   ],
   "source": [
    "rebinnable_interactive_histogram(df[\"air_time\"])"
   ]
  },
  {
   "cell_type": "code",
   "execution_count": null,
   "metadata": {},
   "outputs": [],
   "source": []
  }
 ],
 "metadata": {
  "jupytext": {
   "cell_metadata_filter": "-all",
   "notebook_metadata_filter": "-all"
  },
  "kernelspec": {
   "display_name": "Python 3",
   "language": "python",
   "name": "python3"
  },
  "language_info": {
   "codemirror_mode": {
    "name": "ipython",
    "version": 3
   },
   "file_extension": ".py",
   "mimetype": "text/x-python",
   "name": "python",
   "nbconvert_exporter": "python",
   "pygments_lexer": "ipython3",
   "version": "3.7.3"
  }
 },
 "nbformat": 4,
 "nbformat_minor": 2
}
