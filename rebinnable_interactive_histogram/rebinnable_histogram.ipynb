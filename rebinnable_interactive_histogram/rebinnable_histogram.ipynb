{
 "cells": [
  {
   "cell_type": "markdown",
   "metadata": {},
   "source": [
    "# How to interactively rebin your histograms on the fly\n",
    "\n",
    "In this notebook we use the [NYCFlights13](https://cran.r-project.org/web/packages/nycflights13/nycflights13.pdf) dataset, which contains information on all flights that departed NYC in 2013 (over 300,000 flights in total). To explore how to rebin a plotly histogram on the fly, we will visualize the distribution of **arrival delays in minutes**."
   ]
  },
  {
   "cell_type": "code",
   "execution_count": null,
   "metadata": {},
   "outputs": [],
   "source": [
    "import pandas as pd\n",
    "import plotly.graph_objs as go\n",
    "import ipywidgets as widgets"
   ]
  },
  {
   "cell_type": "code",
   "execution_count": null,
   "metadata": {},
   "outputs": [],
   "source": [
    "df = pd.read_csv(\"../data/flights.csv\")"
   ]
  },
  {
   "cell_type": "markdown",
   "metadata": {},
   "source": [
    "## The starting point - an interacive histogram\n",
    "\n",
    "Here, we need to set the binwidth in the code."
   ]
  },
  {
   "cell_type": "code",
   "execution_count": null,
   "metadata": {},
   "outputs": [],
   "source": [
    "def interactive_histogram(df, column_name):\n",
    "    series = df[column_name]\n",
    "\n",
    "    # Change size to anything you want in order to adjust the binwidth, e.g. xbins={\"size\": 5}\n",
    "    trace = go.Histogram(x=series, xbins={\"size\": None})\n",
    "    figure_widget = go.FigureWidget(\n",
    "        data=[trace],\n",
    "        layout=go.Layout(\n",
    "            yaxis={\"title\": \"Count\"},\n",
    "            xaxis={\"title\": column_name},\n",
    "            bargap=0.05,\n",
    "        )\n",
    "    )\n",
    "\n",
    "    return figure_widget\n",
    "\n",
    "interactive_histogram(df, \"arr_delay\")"
   ]
  },
  {
   "cell_type": "markdown",
   "metadata": {},
   "source": [
    "## Choose bin width interactively on the fly\n",
    "\n",
    "Adding an interactive slider to the histogram allows us to interactively change the bin width."
   ]
  },
  {
   "cell_type": "code",
   "execution_count": null,
   "metadata": {},
   "outputs": [],
   "source": [
    "def rebinnable_interactive_histogram(df, column_name):\n",
    "    DEFAULT_BINWIDTH = 10\n",
    "\n",
    "    series = df[column_name]\n",
    "\n",
    "    trace = go.Histogram(x=series, xbins={\"size\": DEFAULT_BINWIDTH})\n",
    "    figure_widget = go.FigureWidget(\n",
    "        data=[trace],\n",
    "        layout=go.Layout(\n",
    "            yaxis={\"title\": \"Count\"},\n",
    "            xaxis={\"title\": column_name},\n",
    "            bargap=0.05,\n",
    "        )\n",
    "    )\n",
    "\n",
    "    bin_slider = widgets.FloatSlider(\n",
    "        value=DEFAULT_BINWIDTH,\n",
    "        min=1,\n",
    "        max=30,\n",
    "        step=1,\n",
    "        description=\"Bin width:\",\n",
    "        readout_format=\".0f\"  # display as integer\n",
    "    )\n",
    "\n",
    "    histogram_object = figure_widget.data[0]\n",
    "\n",
    "    def set_bin_size(change):\n",
    "        histogram_object.xbins = {\"size\": change[\"new\"]}\n",
    "    bin_slider.observe(set_bin_size, names=\"value\")\n",
    "\n",
    "    return widgets.VBox([figure_widget, bin_slider])\n",
    "\n",
    "\n",
    "rebinnable_interactive_histogram(df, \"arr_delay\")"
   ]
  },
  {
   "cell_type": "code",
   "execution_count": null,
   "metadata": {},
   "outputs": [],
   "source": []
  }
 ],
 "metadata": {
  "jupytext": {
   "cell_metadata_filter": "-all",
   "notebook_metadata_filter": "-all"
  },
  "kernelspec": {
   "display_name": "Python 3",
   "language": "python",
   "name": "python3"
  },
  "language_info": {
   "codemirror_mode": {
    "name": "ipython",
    "version": 3
   },
   "file_extension": ".py",
   "mimetype": "text/x-python",
   "name": "python",
   "nbconvert_exporter": "python",
   "pygments_lexer": "ipython3",
   "version": "3.7.3"
  }
 },
 "nbformat": 4,
 "nbformat_minor": 2
}
